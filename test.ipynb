{
 "cells": [
  {
   "cell_type": "code",
   "execution_count": 1,
   "metadata": {},
   "outputs": [
    {
     "name": "stdout",
     "output_type": "stream",
     "text": [
      "loaded pretrained LPIPS loss from taming/modules/autoencoder/lpips/vgg.pth\n"
     ]
    }
   ],
   "source": [
    "import torch\n",
    "import pytorch_lightning as pl\n",
    "import numpy as np\n",
    "from omegaconf import OmegaConf\n",
    "from torchsummary import summary\n",
    "\n",
    "from modules.autoencoders import HamiltonianAutoencoder\n",
    "\n",
    "device = torch.device(\"cuda\" if torch.cuda.is_available() else \"cpu\")\n",
    "\n",
    "cfg = OmegaConf.load('./config.yaml')\n",
    "\n",
    "hvae = HamiltonianAutoencoder(**cfg.autoencoder).to(device)"
   ]
  },
  {
   "cell_type": "code",
   "execution_count": 2,
   "metadata": {},
   "outputs": [],
   "source": [
    "x = torch.randn(4, 1, 128, 128).to(device)\n",
    "pos = torch.randint(0, 64, size=(4,)).to(device, dtype=torch.long)\n",
    "\n",
    "recon_x, z, z0, rho, eps0, gamma, mu, log_var = hvae(x, pos)"
   ]
  },
  {
   "cell_type": "code",
   "execution_count": 11,
   "metadata": {},
   "outputs": [],
   "source": [
    "data = np.load('./data/brats_preprocessed.npy')"
   ]
  },
  {
   "cell_type": "code",
   "execution_count": 12,
   "metadata": {},
   "outputs": [],
   "source": [
    "# norm between 0 and 1\n",
    "data = (data - data.min()) / (data.max() - data.min())"
   ]
  },
  {
   "cell_type": "code",
   "execution_count": 14,
   "metadata": {},
   "outputs": [
    {
     "data": {
      "text/plain": [
       "1.0"
      ]
     },
     "execution_count": 14,
     "metadata": {},
     "output_type": "execute_result"
    }
   ],
   "source": [
    "data.max()"
   ]
  },
  {
   "cell_type": "code",
   "execution_count": 2,
   "metadata": {},
   "outputs": [
    {
     "name": "stdout",
     "output_type": "stream",
     "text": [
      "Dataset already exists at ./data/brats_preprocessed.npy\n",
      "Loading dataset from npy file...\n",
      "Train shape: torch.Size([10880, 2, 128, 128])\n",
      "Test shape: torch.Size([1920, 2, 128, 128])\n",
      "Train slice positions shape: torch.Size([10880])\n",
      "Test slice positions shape: torch.Size([1920])\n",
      "Min: 0.0, Max: 1.0\n"
     ]
    }
   ],
   "source": [
    "from modules.preprocessing import BRATSDataModule\n",
    "\n",
    "\n",
    "datamodule = BRATSDataModule(**cfg.data)\n",
    "datamodule.prepare_data()\n",
    "datamodule.setup()\n",
    "loader = datamodule.train_dataloader()"
   ]
  },
  {
   "cell_type": "code",
   "execution_count": null,
   "metadata": {},
   "outputs": [],
   "source": []
  }
 ],
 "metadata": {
  "kernelspec": {
   "display_name": "work",
   "language": "python",
   "name": "python3"
  },
  "language_info": {
   "codemirror_mode": {
    "name": "ipython",
    "version": 3
   },
   "file_extension": ".py",
   "mimetype": "text/x-python",
   "name": "python",
   "nbconvert_exporter": "python",
   "pygments_lexer": "ipython3",
   "version": "3.8.13"
  },
  "orig_nbformat": 4
 },
 "nbformat": 4,
 "nbformat_minor": 2
}
